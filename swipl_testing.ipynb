{
 "cells": [
  {
   "cell_type": "code",
   "execution_count": 27,
   "metadata": {},
   "outputs": [
    {
     "name": "stdout",
     "output_type": "stream",
     "text": [
      "Hello, World!\n",
      "\n"
     ]
    }
   ],
   "source": [
    ":- initialization main.\n",
    "\n",
    "main :-\n",
    "  write('Hello, World!'), nl.\n",
    "  halt(0)."
   ]
  },
  {
   "cell_type": "code",
   "execution_count": 13,
   "metadata": {},
   "outputs": [
    {
     "name": "stdout",
     "output_type": "stream",
     "text": [
      "Hello world!, argv:[]\n",
      "Hello world!, argv:[]\n",
      "Hello world!, argv:[]\n",
      "Hello world!, argv:[]\n",
      "Hello world!, argv:[]\n"
     ]
    }
   ],
   "source": [
    ":- initialization main.\n",
    "\n",
    "main :-\n",
    "  current_prolog_flag(argv, Argv),\n",
    "  format('Hello world!, argv:~w\\n', [Argv]),\n",
    "  format('Hello world!, argv:~w\\n', [Argv]),\n",
    "  format('Hello world!, argv:~w\\n', [Argv]),\n",
    "  format('Hello world!, argv:~w\\n', [Argv]),\n",
    "  format('Hello world!, argv:~w\\n', [Argv]),\n",
    "\n",
    "  halt(0)."
   ]
  },
  {
   "cell_type": "code",
   "execution_count": null,
   "metadata": {},
   "outputs": [],
   "source": []
  },
  {
   "cell_type": "code",
   "execution_count": 77,
   "metadata": {},
   "outputs": [
    {
     "name": "stdout",
     "output_type": "stream",
     "text": [
      "0! = 1\n",
      "1! = 1\n",
      "2! = 2\n",
      "3! = 6\n",
      "4! = 24\n",
      "5! = 120\n",
      "6! = 720\n",
      "7! = 5040\n",
      "8! = 40320\n",
      "9! = 362880\n",
      "10! = 3628800\n",
      "11! = 39916800\n",
      "12! = 479001600\n",
      "13! = 6227020800\n",
      "14! = 87178291200\n",
      "15! = 1307674368000\n",
      "16! = 20922789888000\n",
      "\n"
     ]
    }
   ],
   "source": [
    ":- initialization main.\n",
    "\n",
    "main :-\n",
    "    fact(16,X).\n",
    "\n",
    "fact(X, F) :- \n",
    "    ( X=0, F=1; \n",
    "      Y is X-1, fact(Y, Z), F is X*Z), \n",
    "    write(X), write('! = '), write(F), nl.\n",
    "\n"
   ]
  },
  {
   "cell_type": "code",
   "execution_count": 80,
   "metadata": {},
   "outputs": [
    {
     "name": "stdout",
     "output_type": "stream",
     "text": [
      "1, \n",
      "1, \n",
      "2, \n",
      "3, \n",
      "5, \n",
      "8, \n",
      "13, \n",
      "21, \n",
      "34, \n",
      "55, \n",
      "89, \n",
      "144, \n",
      "233, \n",
      "377, \n",
      "610, \n",
      "987, \n",
      "...\n",
      "\n"
     ]
    }
   ],
   "source": [
    ":- initialization main.\n",
    "\n",
    "main :-\n",
    "    fib(16,X), write('...'), nl.\n",
    "\n",
    "\n",
    ":- dynamic(stored/1).\n",
    "\n",
    "memo(Goal) :-\n",
    "    stored(Goal) -> true;\n",
    "    Goal, assertz(stored(Goal)).\n",
    "\n",
    "fib(1,1) :- !, write('1, '), nl.\n",
    "fib(2,1) :- !, write('1, '), nl.\n",
    "fib(N,F) :-\n",
    "    N1 is N-1, memo(fib(N1,F1)), \n",
    "    N2 is N-2, memo(fib(N2,F2)), \n",
    "    F is F1 + F2,\n",
    "    write(F), write(', '), nl.\n",
    "\n"
   ]
  },
  {
   "cell_type": "code",
   "execution_count": 82,
   "metadata": {},
   "outputs": [
    {
     "name": "stdout",
     "output_type": "stream",
     "text": [
      "\n"
     ]
    }
   ],
   "source": [
    ":- initialization main.\n",
    "\n",
    "main :-\n",
    "consult(/home/max/.local/share/jupyter/kernels/swi/fam.pl)\n",
    "     "
   ]
  },
  {
   "cell_type": "code",
   "execution_count": 74,
   "metadata": {},
   "outputs": [
    {
     "name": "stdout",
     "output_type": "stream",
     "text": [
      "\n",
      ">   Enter a selection followed by a period.\n",
      ">   1. Run a query\n",
      ">   2. Exit\n",
      "\n",
      "Invalid option\n"
     ]
    }
   ],
   "source": [
    ":- initialization main.\n",
    "\n",
    "\n",
    "print_query_true(Q) :-\n",
    "    forall(Q, writeln(true:Q)).\n",
    "\n",
    "print_query_false(Q) :-\n",
    "    forall(\\+ Q, writeln(false:Q)).\n",
    "\n",
    "run_opt(1) :- \n",
    "    write('>   Enter a query followed by a period.'), nl,\n",
    "    read(Query),\n",
    "    print_query_true(Query),\n",
    "    print_query_false(Query).\n",
    "\n",
    "run_opt(2) :- write('Goodbye'), nl, halt. \n",
    "\n",
    "run_opt(_) :- write('Invalid option'), nl, halt.  \n",
    "\n",
    "main :- \n",
    "    nl,\n",
    "    write('>   Enter a selection followed by a period.'), nl,\n",
    "    write('>   1. Run a query'), nl,\n",
    "    write('>   2. Exit'), nl, nl,\n",
    "    read(Choice),\n",
    "    run_opt(Choice), main.\n",
    "      "
   ]
  },
  {
   "cell_type": "code",
   "execution_count": null,
   "metadata": {},
   "outputs": [],
   "source": []
  },
  {
   "cell_type": "markdown",
   "metadata": {},
   "source": [
    "# New heading"
   ]
  }
 ],
 "metadata": {
  "kernelspec": {
   "display_name": "SWI-Prolog-dev",
   "language": "",
   "name": "swi"
  },
  "language_info": {
   "mimetype": "text/plain",
   "name": "swipl"
  }
 },
 "nbformat": 4,
 "nbformat_minor": 2
}
