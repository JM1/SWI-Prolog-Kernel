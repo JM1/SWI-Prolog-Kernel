{
 "cells": [
  {
   "cell_type": "code",
   "execution_count": 1,
   "metadata": {},
   "outputs": [
    {
     "name": "stdout",
     "output_type": "stream",
     "text": [
      "/home/max/.local/share/jupyter/kernels/swi/temp/out.txt: line 1: Hello: command not found\n"
     ]
    }
   ],
   "source": [
    ":- initialization main.\n",
    "\n",
    "main :-\n",
    "  current_prolog_flag(argv, Argv),\n",
    "  format('Hello world!, argv:~w\\n', [Argv]),\n",
    "  halt(0)."
   ]
  },
  {
   "cell_type": "code",
   "execution_count": null,
   "metadata": {},
   "outputs": [],
   "source": []
  },
  {
   "cell_type": "code",
   "execution_count": null,
   "metadata": {},
   "outputs": [],
   "source": [
    "import numpy as np\n",
    "import IPython.utils.process as iup\n",
    "import IPython  as ipy\n",
    "\n",
    "ipy.get_ipython()"
   ]
  },
  {
   "cell_type": "code",
   "execution_count": null,
   "metadata": {},
   "outputs": [],
   "source": []
  }
 ],
 "metadata": {
  "kernelspec": {
   "display_name": "SWI-Prolog-dev",
   "language": "",
   "name": "swi"
  },
  "language_info": {
   "mimetype": "text/plain",
   "name": "swipl"
  }
 },
 "nbformat": 4,
 "nbformat_minor": 2
}
